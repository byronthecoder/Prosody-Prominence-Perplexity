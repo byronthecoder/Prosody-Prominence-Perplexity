{
 "cells": [
  {
   "cell_type": "code",
   "execution_count": 1,
   "metadata": {},
   "outputs": [
    {
     "name": "stdout",
     "output_type": "stream",
     "text": [
      "processing ../data/sw02005_sph.wav...\n"
     ]
    }
   ],
   "source": [
    "import parselmouth\n",
    "import os.path\n",
    "import glob\n",
    "\n",
    "for wav_file in glob.glob(\"../data/*.wav\"):\n",
    "    print(\"processing {}...\".format(wav_file))\n",
    "    s = parselmouth.Sound(wav_file)\n",
    "    s.pre_emphasize()\n",
    "    s.save(os.path.splitext(wav_file)[0] + \"_pre.wav\", 'WAV')"
   ]
  },
  {
   "cell_type": "code",
   "execution_count": 2,
   "metadata": {},
   "outputs": [
    {
     "name": "stdout",
     "output_type": "stream",
     "text": [
      "    WORD$                     WAV$ SPKR_ID$    GEN$  WORD_START  WORD_END  \\\n",
      "0    UMHM  ../demo/data/demo_C.wav        C  female         672       709   \n",
      "1    OKAY  ../demo/data/demo_C.wav        C  female        1442      1464   \n",
      "2    I'LL  ../demo/data/demo_C.wav        C  female        1464      1485   \n",
      "3    I'LL  ../demo/data/demo_C.wav        C  female        1547      1557   \n",
      "4   WRITE  ../demo/data/demo_C.wav        C  female        1557      1580   \n",
      "5     YOU  ../demo/data/demo_C.wav        C  female        1608      1627   \n",
      "6    TELL  ../demo/data/demo_C.wav        C  female        1630      1652   \n",
      "7      ME  ../demo/data/demo_C.wav        C  female        1652      1668   \n",
      "8     YOU  ../demo/data/demo_C.wav        C  female        1677      1689   \n",
      "9    TELL  ../demo/data/demo_C.wav        C  female        1689      1714   \n",
      "10     ME  ../demo/data/demo_C.wav        C  female        1714      1725   \n",
      "11    YOU  ../demo/data/demo_C.wav        C  female        1725      1739   \n",
      "12   GIVE  ../demo/data/demo_C.wav        C  female        1739      1751   \n",
      "13     ME  ../demo/data/demo_C.wav        C  female        1751      1761   \n",
      "14    THE  ../demo/data/demo_C.wav        C  female        1761      1770   \n",
      "15  NAMES  ../demo/data/demo_C.wav        C  female        1770      1817   \n",
      "16   OKAY  ../demo/data/demo_C.wav        C  female        2406      2447   \n",
      "17  DANCE  ../demo/data/demo_C.wav        C  female        2699      2746   \n",
      "\n",
      "   FWORD$ FWORD_START FWORD_END  PAUSE_START         ...          \\\n",
      "0    OKAY        1442      1464          709         ...           \n",
      "1    I'LL        1464      1485         1464         ...           \n",
      "2    I'LL        1547      1557         1485         ...           \n",
      "3   WRITE        1557      1580         1557         ...           \n",
      "4     YOU        1608      1627         1580         ...           \n",
      "5    TELL        1630      1652         1627         ...           \n",
      "6      ME        1652      1668         1652         ...           \n",
      "7     YOU        1677      1689         1668         ...           \n",
      "8    TELL        1689      1714         1689         ...           \n",
      "9      ME        1714      1725         1714         ...           \n",
      "10    YOU        1725      1739         1725         ...           \n",
      "11   GIVE        1739      1751         1739         ...           \n",
      "12     ME        1751      1761         1751         ...           \n",
      "13    THE        1761      1770         1761         ...           \n",
      "14  NAMES        1770      1817         1770         ...           \n",
      "15   OKAY        2406      2447         1817         ...           \n",
      "16  DANCE        2699      2746         2447         ...           \n",
      "17      ?           ?         ?         2746         ...           \n",
      "\n",
      "     AVG_PHONE_DUR_NSP   MAX_PHONE_DUR_NSP AVG_VOWEL_DUR_Z MAX_VOWEL_DUR_Z  \\\n",
      "0                    ?                   ?        0.576141        1.743788   \n",
      "1                    ?                   ?       -0.779463       -0.621370   \n",
      "2   1.5897435897435899  1.8461538461538463        0.616212        0.616212   \n",
      "3   0.8038461538461539  0.8076923076923077       -0.348294       -0.348294   \n",
      "4                    ?                   ?       -0.776963       -0.776963   \n",
      "5   1.1928879310344827  1.4482758620689655        0.564076        0.564076   \n",
      "6                    ?                   ?        1.733081        1.733081   \n",
      "7   1.1014285714285714  1.5599999999999998        0.434727        0.434727   \n",
      "8   0.7467672413793104  0.9310344827586208       -0.564076       -0.564076   \n",
      "9                    ?                   ?       -0.059761       -0.059761   \n",
      "10  0.9428571428571428  1.2857142857142856       -0.663530       -0.663530   \n",
      "11  1.0603448275862069                 1.5        2.256304        2.256304   \n",
      "12                   ?                   ?        0.300376        0.300376   \n",
      "13  0.7414285714285713                0.84       -0.388966       -0.388966   \n",
      "14                   ?                   ?       -0.591505       -0.591505   \n",
      "15                   ?                   ?        1.698411        1.698411   \n",
      "16                   ?                   ?        0.725725        0.973479   \n",
      "17                   ?                   ?        0.623177        0.623177   \n",
      "\n",
      "   AVG_VOWEL_DUR_N  MAX_VOWEL_DUR_N     AVG_VOWEL_DUR_ZSP  \\\n",
      "0         1.559701         2.694030    0.2886751345948128   \n",
      "1         0.557160         0.651163                     ?   \n",
      "2         1.560976         1.560976    1.1013775835078696   \n",
      "3         0.682927         0.682927  -0.25031308716087936   \n",
      "4         0.292683         0.292683   -0.8510644963469899   \n",
      "5         1.250000         1.250000  -0.13245323570650425   \n",
      "6         2.115385         2.115385                     ?   \n",
      "7         1.322034         1.322034      1.12089707663561   \n",
      "8         0.750000         0.750000   -0.9271726499455304   \n",
      "9         0.961538         0.961538                     ?   \n",
      "10        0.508475         0.508475   -0.8006407690254359   \n",
      "11        2.000000         2.000000     1.059625885652035   \n",
      "12        1.129032         1.129032                     ?   \n",
      "13        0.711864         0.711864  -0.32025630761017443   \n",
      "14        0.425373         0.425373   -0.5773502691896258   \n",
      "15        1.953488         1.953488    0.8551861104941365   \n",
      "16        1.410098         1.546512                     ?   \n",
      "17        1.307692         1.307692                     ?   \n",
      "\n",
      "       MAX_VOWEL_DUR_ZSP   AVG_VOWEL_DUR_NSP   MAX_VOWEL_DUR_NSP  \n",
      "0     1.1547005383792515  1.3199999999999998                2.28  \n",
      "1                      ?                   ?                   ?  \n",
      "2     1.1013775835078696  1.8461538461538463  1.8461538461538463  \n",
      "3   -0.25031308716087936  0.8076923076923077  0.8076923076923077  \n",
      "4    -0.8510644963469899  0.3461538461538462  0.3461538461538462  \n",
      "5   -0.13245323570650425              0.9375              0.9375  \n",
      "6                      ?                   ?                   ?  \n",
      "7       1.12089707663561  1.5599999999999998  1.5599999999999998  \n",
      "8    -0.9271726499455304              0.5625              0.5625  \n",
      "9                      ?                   ?                   ?  \n",
      "10   -0.8006407690254359                 0.6                 0.6  \n",
      "11     1.059625885652035                 1.5                 1.5  \n",
      "12                     ?                   ?                   ?  \n",
      "13  -0.32025630761017443                0.84                0.84  \n",
      "14   -0.5773502691896258                0.36                0.36  \n",
      "15    0.8551861104941365   1.411764705882353   1.411764705882353  \n",
      "16                     ?                   ?                   ?  \n",
      "17                     ?                   ?                   ?  \n",
      "\n",
      "[18 rows x 266 columns]\n"
     ]
    }
   ],
   "source": [
    "import pandas as pd\n",
    "\n",
    "print(pd.read_table(\"../praat-prosody_v0.1.1/demo/work_dir/pf_files/demo_C-pf.Tab\"))"
   ]
  },
  {
   "cell_type": "code",
   "execution_count": null,
   "metadata": {},
   "outputs": [],
   "source": []
  }
 ],
 "metadata": {
  "kernelspec": {
   "display_name": "Python 3",
   "language": "python",
   "name": "python3"
  },
  "language_info": {
   "codemirror_mode": {
    "name": "ipython",
    "version": 3
   },
   "file_extension": ".py",
   "mimetype": "text/x-python",
   "name": "python",
   "nbconvert_exporter": "python",
   "pygments_lexer": "ipython3",
   "version": "3.6.7"
  },
  "toc": {
   "base_numbering": 1,
   "nav_menu": {},
   "number_sections": true,
   "sideBar": true,
   "skip_h1_title": false,
   "title_cell": "Table of Contents",
   "title_sidebar": "Contents",
   "toc_cell": false,
   "toc_position": {},
   "toc_section_display": true,
   "toc_window_display": false
  },
  "varInspector": {
   "cols": {
    "lenName": 16,
    "lenType": 16,
    "lenVar": 40
   },
   "kernels_config": {
    "python": {
     "delete_cmd_postfix": "",
     "delete_cmd_prefix": "del ",
     "library": "var_list.py",
     "varRefreshCmd": "print(var_dic_list())"
    },
    "r": {
     "delete_cmd_postfix": ") ",
     "delete_cmd_prefix": "rm(",
     "library": "var_list.r",
     "varRefreshCmd": "cat(var_dic_list()) "
    }
   },
   "types_to_exclude": [
    "module",
    "function",
    "builtin_function_or_method",
    "instance",
    "_Feature"
   ],
   "window_display": false
  }
 },
 "nbformat": 4,
 "nbformat_minor": 2
}
