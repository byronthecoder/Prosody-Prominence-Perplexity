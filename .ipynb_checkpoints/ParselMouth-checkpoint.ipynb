{
 "cells": [
  {
   "cell_type": "code",
   "execution_count": 82,
   "metadata": {},
   "outputs": [
    {
     "name": "stdout",
     "output_type": "stream",
     "text": [
      "processing ../data/sw02005_sph.wav...\n",
      "processing ../data/sw02005_sph_pre.wav...\n",
      "processing ../data/sw02005_sph_pre_pre.wav...\n"
     ]
    }
   ],
   "source": [
    "import parselmouth\n",
    "import os.path\n",
    "import glob\n",
    "\n",
    "for wav_file in glob.glob(\"../data/*.wav\"):\n",
    "    print(\"processing {}...\".format(wav_file))\n",
    "    s = parselmouth.Sound(wav_file)\n",
    "    s.pre_emphasize()\n",
    "    s.save(os.path.splitext(wav_file)[0] + \"_pre.wav\", 'WAV')"
   ]
  },
  {
   "cell_type": "code",
   "execution_count": 83,
   "metadata": {},
   "outputs": [
    {
     "name": "stdout",
     "output_type": "stream",
     "text": [
      "    WORD$                     WAV$ SPKR_ID$    GEN$  WORD_START  WORD_END  \\\n",
      "0    UMHM  ../demo/data/demo_C.wav        C  female         672       709   \n",
      "1    OKAY  ../demo/data/demo_C.wav        C  female        1442      1464   \n",
      "2    I'LL  ../demo/data/demo_C.wav        C  female        1464      1485   \n",
      "3    I'LL  ../demo/data/demo_C.wav        C  female        1547      1557   \n",
      "4   WRITE  ../demo/data/demo_C.wav        C  female        1557      1580   \n",
      "5     YOU  ../demo/data/demo_C.wav        C  female        1608      1627   \n",
      "6    TELL  ../demo/data/demo_C.wav        C  female        1630      1652   \n",
      "7      ME  ../demo/data/demo_C.wav        C  female        1652      1668   \n",
      "8     YOU  ../demo/data/demo_C.wav        C  female        1677      1689   \n",
      "9    TELL  ../demo/data/demo_C.wav        C  female        1689      1714   \n",
      "10     ME  ../demo/data/demo_C.wav        C  female        1714      1725   \n",
      "11    YOU  ../demo/data/demo_C.wav        C  female        1725      1739   \n",
      "12   GIVE  ../demo/data/demo_C.wav        C  female        1739      1751   \n",
      "13     ME  ../demo/data/demo_C.wav        C  female        1751      1761   \n",
      "14    THE  ../demo/data/demo_C.wav        C  female        1761      1770   \n",
      "15  NAMES  ../demo/data/demo_C.wav        C  female        1770      1817   \n",
      "16   OKAY  ../demo/data/demo_C.wav        C  female        2406      2447   \n",
      "17  DANCE  ../demo/data/demo_C.wav        C  female        2699      2746   \n",
      "\n",
      "   FWORD$ FWORD_START FWORD_END  PAUSE_START         ...          \\\n",
      "0    OKAY        1442      1464          709         ...           \n",
      "1    I'LL        1464      1485         1464         ...           \n",
      "2    I'LL        1547      1557         1485         ...           \n",
      "3   WRITE        1557      1580         1557         ...           \n",
      "4     YOU        1608      1627         1580         ...           \n",
      "5    TELL        1630      1652         1627         ...           \n",
      "6      ME        1652      1668         1652         ...           \n",
      "7     YOU        1677      1689         1668         ...           \n",
      "8    TELL        1689      1714         1689         ...           \n",
      "9      ME        1714      1725         1714         ...           \n",
      "10    YOU        1725      1739         1725         ...           \n",
      "11   GIVE        1739      1751         1739         ...           \n",
      "12     ME        1751      1761         1751         ...           \n",
      "13    THE        1761      1770         1761         ...           \n",
      "14  NAMES        1770      1817         1770         ...           \n",
      "15   OKAY        2406      2447         1817         ...           \n",
      "16  DANCE        2699      2746         2447         ...           \n",
      "17      ?           ?         ?         2746         ...           \n",
      "\n",
      "     AVG_PHONE_DUR_NSP   MAX_PHONE_DUR_NSP AVG_VOWEL_DUR_Z MAX_VOWEL_DUR_Z  \\\n",
      "0                    ?                   ?        0.576141        1.743788   \n",
      "1                    ?                   ?       -0.779463       -0.621370   \n",
      "2   1.5897435897435899  1.8461538461538463        0.616212        0.616212   \n",
      "3   0.8038461538461539  0.8076923076923077       -0.348294       -0.348294   \n",
      "4                    ?                   ?       -0.776963       -0.776963   \n",
      "5   1.1928879310344827  1.4482758620689655        0.564076        0.564076   \n",
      "6                    ?                   ?        1.733081        1.733081   \n",
      "7   1.1014285714285714  1.5599999999999998        0.434727        0.434727   \n",
      "8   0.7467672413793104  0.9310344827586208       -0.564076       -0.564076   \n",
      "9                    ?                   ?       -0.059761       -0.059761   \n",
      "10  0.9428571428571428  1.2857142857142856       -0.663530       -0.663530   \n",
      "11  1.0603448275862069                 1.5        2.256304        2.256304   \n",
      "12                   ?                   ?        0.300376        0.300376   \n",
      "13  0.7414285714285713                0.84       -0.388966       -0.388966   \n",
      "14                   ?                   ?       -0.591505       -0.591505   \n",
      "15                   ?                   ?        1.698411        1.698411   \n",
      "16                   ?                   ?        0.725725        0.973479   \n",
      "17                   ?                   ?        0.623177        0.623177   \n",
      "\n",
      "   AVG_VOWEL_DUR_N  MAX_VOWEL_DUR_N     AVG_VOWEL_DUR_ZSP  \\\n",
      "0         1.559701         2.694030    0.2886751345948128   \n",
      "1         0.557160         0.651163                     ?   \n",
      "2         1.560976         1.560976    1.1013775835078696   \n",
      "3         0.682927         0.682927  -0.25031308716087936   \n",
      "4         0.292683         0.292683   -0.8510644963469899   \n",
      "5         1.250000         1.250000  -0.13245323570650425   \n",
      "6         2.115385         2.115385                     ?   \n",
      "7         1.322034         1.322034      1.12089707663561   \n",
      "8         0.750000         0.750000   -0.9271726499455304   \n",
      "9         0.961538         0.961538                     ?   \n",
      "10        0.508475         0.508475   -0.8006407690254359   \n",
      "11        2.000000         2.000000     1.059625885652035   \n",
      "12        1.129032         1.129032                     ?   \n",
      "13        0.711864         0.711864  -0.32025630761017443   \n",
      "14        0.425373         0.425373   -0.5773502691896258   \n",
      "15        1.953488         1.953488    0.8551861104941365   \n",
      "16        1.410098         1.546512                     ?   \n",
      "17        1.307692         1.307692                     ?   \n",
      "\n",
      "       MAX_VOWEL_DUR_ZSP   AVG_VOWEL_DUR_NSP   MAX_VOWEL_DUR_NSP  \n",
      "0     1.1547005383792515  1.3199999999999998                2.28  \n",
      "1                      ?                   ?                   ?  \n",
      "2     1.1013775835078696  1.8461538461538463  1.8461538461538463  \n",
      "3   -0.25031308716087936  0.8076923076923077  0.8076923076923077  \n",
      "4    -0.8510644963469899  0.3461538461538462  0.3461538461538462  \n",
      "5   -0.13245323570650425              0.9375              0.9375  \n",
      "6                      ?                   ?                   ?  \n",
      "7       1.12089707663561  1.5599999999999998  1.5599999999999998  \n",
      "8    -0.9271726499455304              0.5625              0.5625  \n",
      "9                      ?                   ?                   ?  \n",
      "10   -0.8006407690254359                 0.6                 0.6  \n",
      "11     1.059625885652035                 1.5                 1.5  \n",
      "12                     ?                   ?                   ?  \n",
      "13  -0.32025630761017443                0.84                0.84  \n",
      "14   -0.5773502691896258                0.36                0.36  \n",
      "15    0.8551861104941365   1.411764705882353   1.411764705882353  \n",
      "16                     ?                   ?                   ?  \n",
      "17                     ?                   ?                   ?  \n",
      "\n",
      "[18 rows x 266 columns]\n"
     ]
    }
   ],
   "source": [
    "import pandas as pd\n",
    "\n",
    "print(pd.read_table(\"../praat-prosody_v0.1.1/demo/work_dir/pf_files/demo_C-pf.Tab\"))"
   ]
  },
  {
   "cell_type": "code",
   "execution_count": 84,
   "metadata": {},
   "outputs": [
    {
     "ename": "AttributeError",
     "evalue": "'DataFrame' object has no attribute 'to_numpy'",
     "output_type": "error",
     "traceback": [
      "\u001b[0;31m---------------------------------------------------------------------------\u001b[0m",
      "\u001b[0;31mAttributeError\u001b[0m                            Traceback (most recent call last)",
      "\u001b[0;32m<ipython-input-84-5013226b89db>\u001b[0m in \u001b[0;36m<module>\u001b[0;34m\u001b[0m\n\u001b[1;32m      7\u001b[0m \u001b[0;31m# however index cannot be reset, so convert df to nparray\u001b[0m\u001b[0;34m\u001b[0m\u001b[0;34m\u001b[0m\u001b[0;34m\u001b[0m\u001b[0m\n\u001b[1;32m      8\u001b[0m \u001b[0;31m#trans.reset_index(drop=True)\u001b[0m\u001b[0;34m\u001b[0m\u001b[0;34m\u001b[0m\u001b[0;34m\u001b[0m\u001b[0m\n\u001b[0;32m----> 9\u001b[0;31m \u001b[0mprint\u001b[0m\u001b[0;34m(\u001b[0m\u001b[0mtrans\u001b[0m\u001b[0;34m.\u001b[0m\u001b[0mto_numpy\u001b[0m\u001b[0;34m)\u001b[0m\u001b[0;34m\u001b[0m\u001b[0;34m\u001b[0m\u001b[0m\n\u001b[0m",
      "\u001b[0;32m~/anaconda3/lib/python3.6/site-packages/pandas/core/generic.py\u001b[0m in \u001b[0;36m__getattr__\u001b[0;34m(self, name)\u001b[0m\n\u001b[1;32m   4374\u001b[0m         \u001b[0mComodo\u001b[0m \u001b[0mDragon\u001b[0m            \u001b[0;36m0\u001b[0m           \u001b[0;36m0.00\u001b[0m\u001b[0;34m\u001b[0m\u001b[0;34m\u001b[0m\u001b[0m\n\u001b[1;32m   4375\u001b[0m         \u001b[0mIE10\u001b[0m                   \u001b[0;36m404\u001b[0m           \u001b[0;36m0.08\u001b[0m\u001b[0;34m\u001b[0m\u001b[0;34m\u001b[0m\u001b[0m\n\u001b[0;32m-> 4376\u001b[0;31m         \u001b[0mChrome\u001b[0m                 \u001b[0;36m200\u001b[0m           \u001b[0;36m0.02\u001b[0m\u001b[0;34m\u001b[0m\u001b[0;34m\u001b[0m\u001b[0m\n\u001b[0m\u001b[1;32m   4377\u001b[0m \u001b[0;34m\u001b[0m\u001b[0m\n\u001b[1;32m   4378\u001b[0m         \u001b[0;34m>>\u001b[0m\u001b[0;34m>\u001b[0m \u001b[0mdf\u001b[0m\u001b[0;34m.\u001b[0m\u001b[0mreindex\u001b[0m\u001b[0;34m(\u001b[0m\u001b[0mnew_index\u001b[0m\u001b[0;34m,\u001b[0m \u001b[0mfill_value\u001b[0m\u001b[0;34m=\u001b[0m\u001b[0;34m'missing'\u001b[0m\u001b[0;34m)\u001b[0m\u001b[0;34m\u001b[0m\u001b[0;34m\u001b[0m\u001b[0m\n",
      "\u001b[0;31mAttributeError\u001b[0m: 'DataFrame' object has no attribute 'to_numpy'"
     ]
    }
   ],
   "source": [
    "import numpy as np\n",
    "# read transcription files and add headers\n",
    "trans = pd.read_table(\"../ptree_word_alignments/data/alignments/2/sw2005A-ms98-a-penn.text\", sep='\\t', header=None)\n",
    "trans.columns = [\"ms_id\", \"ldc_id\", \"start_time\", \"end_time\", \"tag\", \"ldc_trans\", \"ms_trans\"]\n",
    "# drop rows which have the same start time\n",
    "trans = trans.drop_duplicates(subset=\"start_time\")\n",
    "# however index cannot be reset, so convert df to nparray\n",
    "#trans.reset_index(drop=True)\n",
    "print(trans.to_numpy)"
   ]
  },
  {
   "cell_type": "code",
   "execution_count": 73,
   "metadata": {},
   "outputs": [
    {
     "ename": "IndexError",
     "evalue": "single positional indexer is out-of-bounds",
     "output_type": "error",
     "traceback": [
      "\u001b[0;31m---------------------------------------------------------------------------\u001b[0m",
      "\u001b[0;31mIndexError\u001b[0m                                Traceback (most recent call last)",
      "\u001b[0;32m<ipython-input-73-1db841ca5170>\u001b[0m in \u001b[0;36m<module>\u001b[0;34m\u001b[0m\n\u001b[1;32m      7\u001b[0m     \u001b[0;31m# one time point can only insert one boundary, need to delete rows with same time points\u001b[0m\u001b[0;34m\u001b[0m\u001b[0;34m\u001b[0m\u001b[0;34m\u001b[0m\u001b[0m\n\u001b[1;32m      8\u001b[0m     \u001b[0;31m# parselmouth.praat.call(tg, \"Insert boundary\", 1, trans.start_time[i+1])\u001b[0m\u001b[0;34m\u001b[0m\u001b[0;34m\u001b[0m\u001b[0;34m\u001b[0m\u001b[0m\n\u001b[0;32m----> 9\u001b[0;31m     \u001b[0mparselmouth\u001b[0m\u001b[0;34m.\u001b[0m\u001b[0mpraat\u001b[0m\u001b[0;34m.\u001b[0m\u001b[0mcall\u001b[0m\u001b[0;34m(\u001b[0m\u001b[0mtg\u001b[0m\u001b[0;34m,\u001b[0m \u001b[0;34m\"Insert boundary\"\u001b[0m\u001b[0;34m,\u001b[0m \u001b[0;36m1\u001b[0m\u001b[0;34m,\u001b[0m \u001b[0mtrans\u001b[0m\u001b[0;34m.\u001b[0m\u001b[0miloc\u001b[0m\u001b[0;34m[\u001b[0m\u001b[0mi\u001b[0m\u001b[0;34m+\u001b[0m\u001b[0;36m1\u001b[0m\u001b[0;34m,\u001b[0m \u001b[0;36m2\u001b[0m\u001b[0;34m]\u001b[0m\u001b[0;34m)\u001b[0m\u001b[0;34m\u001b[0m\u001b[0;34m\u001b[0m\u001b[0m\n\u001b[0m\u001b[1;32m     10\u001b[0m     \u001b[0;31m# parselmouth.praat.call(tg, \"Set interval text\", 1, i+1, trans.ms_trans[i])\u001b[0m\u001b[0;34m\u001b[0m\u001b[0;34m\u001b[0m\u001b[0;34m\u001b[0m\u001b[0m\n\u001b[1;32m     11\u001b[0m \u001b[0mtg\u001b[0m\u001b[0;34m.\u001b[0m\u001b[0msave\u001b[0m\u001b[0;34m(\u001b[0m\u001b[0mos\u001b[0m\u001b[0;34m.\u001b[0m\u001b[0mpath\u001b[0m\u001b[0;34m.\u001b[0m\u001b[0msplitext\u001b[0m\u001b[0;34m(\u001b[0m\u001b[0;34m\"../data/sw02005_sph.wav\"\u001b[0m\u001b[0;34m)\u001b[0m\u001b[0;34m[\u001b[0m\u001b[0;36m0\u001b[0m\u001b[0;34m]\u001b[0m \u001b[0;34m+\u001b[0m \u001b[0;34m\".TextGrid\"\u001b[0m\u001b[0;34m)\u001b[0m\u001b[0;34m\u001b[0m\u001b[0;34m\u001b[0m\u001b[0m\n",
      "\u001b[0;32m~/anaconda3/lib/python3.6/site-packages/pandas/core/indexing.py\u001b[0m in \u001b[0;36m__getitem__\u001b[0;34m(self, key)\u001b[0m\n\u001b[1;32m   1470\u001b[0m             \u001b[0;32mexcept\u001b[0m \u001b[0;34m(\u001b[0m\u001b[0mKeyError\u001b[0m\u001b[0;34m,\u001b[0m \u001b[0mIndexError\u001b[0m\u001b[0;34m)\u001b[0m\u001b[0;34m:\u001b[0m\u001b[0;34m\u001b[0m\u001b[0;34m\u001b[0m\u001b[0m\n\u001b[1;32m   1471\u001b[0m                 \u001b[0;32mpass\u001b[0m\u001b[0;34m\u001b[0m\u001b[0;34m\u001b[0m\u001b[0m\n\u001b[0;32m-> 1472\u001b[0;31m             \u001b[0;32mreturn\u001b[0m \u001b[0mself\u001b[0m\u001b[0;34m.\u001b[0m\u001b[0m_getitem_tuple\u001b[0m\u001b[0;34m(\u001b[0m\u001b[0mkey\u001b[0m\u001b[0;34m)\u001b[0m\u001b[0;34m\u001b[0m\u001b[0;34m\u001b[0m\u001b[0m\n\u001b[0m\u001b[1;32m   1473\u001b[0m         \u001b[0;32melse\u001b[0m\u001b[0;34m:\u001b[0m\u001b[0;34m\u001b[0m\u001b[0;34m\u001b[0m\u001b[0m\n\u001b[1;32m   1474\u001b[0m             \u001b[0;31m# we by definition only have the 0th axis\u001b[0m\u001b[0;34m\u001b[0m\u001b[0;34m\u001b[0m\u001b[0;34m\u001b[0m\u001b[0m\n",
      "\u001b[0;32m~/anaconda3/lib/python3.6/site-packages/pandas/core/indexing.py\u001b[0m in \u001b[0;36m_getitem_tuple\u001b[0;34m(self, tup)\u001b[0m\n\u001b[1;32m   2011\u001b[0m     \u001b[0;32mdef\u001b[0m \u001b[0m_getitem_tuple\u001b[0m\u001b[0;34m(\u001b[0m\u001b[0mself\u001b[0m\u001b[0;34m,\u001b[0m \u001b[0mtup\u001b[0m\u001b[0;34m)\u001b[0m\u001b[0;34m:\u001b[0m\u001b[0;34m\u001b[0m\u001b[0;34m\u001b[0m\u001b[0m\n\u001b[1;32m   2012\u001b[0m \u001b[0;34m\u001b[0m\u001b[0m\n\u001b[0;32m-> 2013\u001b[0;31m         \u001b[0mself\u001b[0m\u001b[0;34m.\u001b[0m\u001b[0m_has_valid_tuple\u001b[0m\u001b[0;34m(\u001b[0m\u001b[0mtup\u001b[0m\u001b[0;34m)\u001b[0m\u001b[0;34m\u001b[0m\u001b[0;34m\u001b[0m\u001b[0m\n\u001b[0m\u001b[1;32m   2014\u001b[0m         \u001b[0;32mtry\u001b[0m\u001b[0;34m:\u001b[0m\u001b[0;34m\u001b[0m\u001b[0;34m\u001b[0m\u001b[0m\n\u001b[1;32m   2015\u001b[0m             \u001b[0;32mreturn\u001b[0m \u001b[0mself\u001b[0m\u001b[0;34m.\u001b[0m\u001b[0m_getitem_lowerdim\u001b[0m\u001b[0;34m(\u001b[0m\u001b[0mtup\u001b[0m\u001b[0;34m)\u001b[0m\u001b[0;34m\u001b[0m\u001b[0;34m\u001b[0m\u001b[0m\n",
      "\u001b[0;32m~/anaconda3/lib/python3.6/site-packages/pandas/core/indexing.py\u001b[0m in \u001b[0;36m_has_valid_tuple\u001b[0;34m(self, key)\u001b[0m\n\u001b[1;32m    220\u001b[0m                 \u001b[0;32mraise\u001b[0m \u001b[0mIndexingError\u001b[0m\u001b[0;34m(\u001b[0m\u001b[0;34m'Too many indexers'\u001b[0m\u001b[0;34m)\u001b[0m\u001b[0;34m\u001b[0m\u001b[0;34m\u001b[0m\u001b[0m\n\u001b[1;32m    221\u001b[0m             \u001b[0;32mtry\u001b[0m\u001b[0;34m:\u001b[0m\u001b[0;34m\u001b[0m\u001b[0;34m\u001b[0m\u001b[0m\n\u001b[0;32m--> 222\u001b[0;31m                 \u001b[0mself\u001b[0m\u001b[0;34m.\u001b[0m\u001b[0m_validate_key\u001b[0m\u001b[0;34m(\u001b[0m\u001b[0mk\u001b[0m\u001b[0;34m,\u001b[0m \u001b[0mi\u001b[0m\u001b[0;34m)\u001b[0m\u001b[0;34m\u001b[0m\u001b[0;34m\u001b[0m\u001b[0m\n\u001b[0m\u001b[1;32m    223\u001b[0m             \u001b[0;32mexcept\u001b[0m \u001b[0mValueError\u001b[0m\u001b[0;34m:\u001b[0m\u001b[0;34m\u001b[0m\u001b[0;34m\u001b[0m\u001b[0m\n\u001b[1;32m    224\u001b[0m                 raise ValueError(\"Location based indexing can only have \"\n",
      "\u001b[0;32m~/anaconda3/lib/python3.6/site-packages/pandas/core/indexing.py\u001b[0m in \u001b[0;36m_validate_key\u001b[0;34m(self, key, axis)\u001b[0m\n\u001b[1;32m   1955\u001b[0m             \u001b[0;32mreturn\u001b[0m\u001b[0;34m\u001b[0m\u001b[0;34m\u001b[0m\u001b[0m\n\u001b[1;32m   1956\u001b[0m         \u001b[0;32melif\u001b[0m \u001b[0mis_integer\u001b[0m\u001b[0;34m(\u001b[0m\u001b[0mkey\u001b[0m\u001b[0;34m)\u001b[0m\u001b[0;34m:\u001b[0m\u001b[0;34m\u001b[0m\u001b[0;34m\u001b[0m\u001b[0m\n\u001b[0;32m-> 1957\u001b[0;31m             \u001b[0mself\u001b[0m\u001b[0;34m.\u001b[0m\u001b[0m_validate_integer\u001b[0m\u001b[0;34m(\u001b[0m\u001b[0mkey\u001b[0m\u001b[0;34m,\u001b[0m \u001b[0maxis\u001b[0m\u001b[0;34m)\u001b[0m\u001b[0;34m\u001b[0m\u001b[0;34m\u001b[0m\u001b[0m\n\u001b[0m\u001b[1;32m   1958\u001b[0m         \u001b[0;32melif\u001b[0m \u001b[0misinstance\u001b[0m\u001b[0;34m(\u001b[0m\u001b[0mkey\u001b[0m\u001b[0;34m,\u001b[0m \u001b[0mtuple\u001b[0m\u001b[0;34m)\u001b[0m\u001b[0;34m:\u001b[0m\u001b[0;34m\u001b[0m\u001b[0;34m\u001b[0m\u001b[0m\n\u001b[1;32m   1959\u001b[0m             \u001b[0;31m# a tuple should already have been caught by this point\u001b[0m\u001b[0;34m\u001b[0m\u001b[0;34m\u001b[0m\u001b[0;34m\u001b[0m\u001b[0m\n",
      "\u001b[0;32m~/anaconda3/lib/python3.6/site-packages/pandas/core/indexing.py\u001b[0m in \u001b[0;36m_validate_integer\u001b[0;34m(self, key, axis)\u001b[0m\n\u001b[1;32m   2007\u001b[0m         \u001b[0ml\u001b[0m \u001b[0;34m=\u001b[0m \u001b[0mlen\u001b[0m\u001b[0;34m(\u001b[0m\u001b[0max\u001b[0m\u001b[0;34m)\u001b[0m\u001b[0;34m\u001b[0m\u001b[0;34m\u001b[0m\u001b[0m\n\u001b[1;32m   2008\u001b[0m         \u001b[0;32mif\u001b[0m \u001b[0mkey\u001b[0m \u001b[0;34m>=\u001b[0m \u001b[0ml\u001b[0m \u001b[0;32mor\u001b[0m \u001b[0mkey\u001b[0m \u001b[0;34m<\u001b[0m \u001b[0;34m-\u001b[0m\u001b[0ml\u001b[0m\u001b[0;34m:\u001b[0m\u001b[0;34m\u001b[0m\u001b[0;34m\u001b[0m\u001b[0m\n\u001b[0;32m-> 2009\u001b[0;31m             \u001b[0;32mraise\u001b[0m \u001b[0mIndexError\u001b[0m\u001b[0;34m(\u001b[0m\u001b[0;34m\"single positional indexer is out-of-bounds\"\u001b[0m\u001b[0;34m)\u001b[0m\u001b[0;34m\u001b[0m\u001b[0;34m\u001b[0m\u001b[0m\n\u001b[0m\u001b[1;32m   2010\u001b[0m \u001b[0;34m\u001b[0m\u001b[0m\n\u001b[1;32m   2011\u001b[0m     \u001b[0;32mdef\u001b[0m \u001b[0m_getitem_tuple\u001b[0m\u001b[0;34m(\u001b[0m\u001b[0mself\u001b[0m\u001b[0;34m,\u001b[0m \u001b[0mtup\u001b[0m\u001b[0;34m)\u001b[0m\u001b[0;34m:\u001b[0m\u001b[0;34m\u001b[0m\u001b[0;34m\u001b[0m\u001b[0m\n",
      "\u001b[0;31mIndexError\u001b[0m: single positional indexer is out-of-bounds"
     ]
    }
   ],
   "source": [
    "# function to create a TextGrid \n",
    "# def text_grid(sound, dataframe):\n",
    "tg = parselmouth.praat.call(s, \"To TextGrid\", \"trans\", \"\")\n",
    "# call.() or parselmouth.praat.call()?\n",
    "# timeit df.index < df.shape < df.[0].count()\n",
    "for i in range(len(trans.index)):\n",
    "    # one time point can only insert one boundary, need to delete rows with same time points\n",
    "    # parselmouth.praat.call(tg, \"Insert boundary\", 1, trans.start_time[i+1])\n",
    "    parselmouth.praat.call(tg, \"Insert boundary\", 1, trans.iloc[i+1, 2])\n",
    "    # parselmouth.praat.call(tg, \"Set interval text\", 1, i+1, trans.ms_trans[i])\n",
    "tg.save(os.path.splitext(\"../data/sw02005_sph.wav\")[0] + \".TextGrid\")\n",
    "#parselmouth.praat.call(tg, \"Insert boundary\", 1, trans.start_time[2])\n",
    "#parselmouth.praat.call(tg, \"Set interval text\", 1, 2, trans.start_time[1])"
   ]
  },
  {
   "cell_type": "code",
   "execution_count": 37,
   "metadata": {},
   "outputs": [
    {
     "name": "stdout",
     "output_type": "stream",
     "text": [
      "0\n",
      "1\n",
      "2\n",
      "3\n",
      "4\n"
     ]
    }
   ],
   "source": [
    "for i in range(5):\n",
    "    print(i)"
   ]
  },
  {
   "cell_type": "code",
   "execution_count": null,
   "metadata": {},
   "outputs": [],
   "source": []
  }
 ],
 "metadata": {
  "kernelspec": {
   "display_name": "Python 3",
   "language": "python",
   "name": "python3"
  },
  "language_info": {
   "codemirror_mode": {
    "name": "ipython",
    "version": 3
   },
   "file_extension": ".py",
   "mimetype": "text/x-python",
   "name": "python",
   "nbconvert_exporter": "python",
   "pygments_lexer": "ipython3",
   "version": "3.6.7"
  },
  "toc": {
   "base_numbering": 1,
   "nav_menu": {},
   "number_sections": true,
   "sideBar": true,
   "skip_h1_title": false,
   "title_cell": "Table of Contents",
   "title_sidebar": "Contents",
   "toc_cell": false,
   "toc_position": {},
   "toc_section_display": true,
   "toc_window_display": false
  },
  "varInspector": {
   "cols": {
    "lenName": 16,
    "lenType": 16,
    "lenVar": 40
   },
   "kernels_config": {
    "python": {
     "delete_cmd_postfix": "",
     "delete_cmd_prefix": "del ",
     "library": "var_list.py",
     "varRefreshCmd": "print(var_dic_list())"
    },
    "r": {
     "delete_cmd_postfix": ") ",
     "delete_cmd_prefix": "rm(",
     "library": "var_list.r",
     "varRefreshCmd": "cat(var_dic_list()) "
    }
   },
   "types_to_exclude": [
    "module",
    "function",
    "builtin_function_or_method",
    "instance",
    "_Feature"
   ],
   "window_display": false
  }
 },
 "nbformat": 4,
 "nbformat_minor": 2
}
